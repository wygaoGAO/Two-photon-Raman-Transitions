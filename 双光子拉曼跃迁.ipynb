{
 "cells": [
  {
   "cell_type": "code",
   "execution_count": null,
   "id": "8683be58",
   "metadata": {},
   "outputs": [],
   "source": [
    "import numpy as np\n",
    "import matplotlib.pyplot as plt\n",
    "\n",
    "# 定义参数\n",
    "Omega_1 = 100.0  # 激光1的拉比频率\n",
    "Omega_2 = 100.0  # 激光2的拉比频率\n",
    "Delta = 10.0     # 失谐量\n",
    "t_max = 0.1      # 最大时间\n",
    "dt = 0.00001     # 时间步长\n",
    "k1 = 1.0\n",
    "k2 = 1.0\n",
    "\n",
    "# 有效拉比频率\n",
    "Omega_eff = Omega_1 * Omega_2 / (2 * Delta)\n",
    "\n",
    "# 时间数组\n",
    "t = np.arange(0, t_max, dt)\n",
    "\n",
    "# 初始化态\n",
    "psi_g1 = np.ones_like(t, dtype=complex)\n",
    "psi_g2 = np.zeros_like(t, dtype=complex)\n",
    "\n",
    "# 计算基态和激发态概率\n",
    "for i in range(1, len(t)):\n",
    "    psi_g1[i] = psi_g1[i-1] + (-1j * Omega_eff / 2 * psi_g2[i-1]) * dt\n",
    "    psi_g2[i] = psi_g2[i-1] + (-1j * Omega_eff / 2 * psi_g1[i-1]) * dt\n",
    "\n",
    "# 计算概率\n",
    "P_g1 = np.abs(psi_g1)**2\n",
    "P_g2 = np.abs(psi_g2)**2\n",
    "\n",
    "# 绘图\n",
    "plt.plot(t, P_g1, label='Ground State |g1>')\n",
    "plt.plot(t, P_g2, label='Ground State |g2>')\n",
    "plt.xlabel('Time (s)')\n",
    "plt.ylabel('Probability')\n",
    "plt.title('Two-Photon Raman Transition (Two Ground States)')\n",
    "plt.legend()\n",
    "plt.grid(True)\n",
    "plt.show()\n"
   ]
  },
  {
   "cell_type": "code",
   "execution_count": null,
   "id": "a5471585",
   "metadata": {},
   "outputs": [],
   "source": []
  }
 ],
 "metadata": {
  "kernelspec": {
   "display_name": "Python 3 (ipykernel)",
   "language": "python",
   "name": "python3"
  },
  "language_info": {
   "codemirror_mode": {
    "name": "ipython",
    "version": 3
   },
   "file_extension": ".py",
   "mimetype": "text/x-python",
   "name": "python",
   "nbconvert_exporter": "python",
   "pygments_lexer": "ipython3",
   "version": "3.9.13"
  }
 },
 "nbformat": 4,
 "nbformat_minor": 5
}
